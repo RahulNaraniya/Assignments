{
 "cells": [
  {
   "cell_type": "markdown",
   "metadata": {},
   "source": [
    "# Assignment-4"
   ]
  },
  {
   "cell_type": "markdown",
   "metadata": {},
   "source": [
    "# 1.1"
   ]
  },
  {
   "cell_type": "code",
   "execution_count": 5,
   "metadata": {},
   "outputs": [
    {
     "name": "stdout",
     "output_type": "stream",
     "text": [
      "Area of the triangle is :  16.583123951777\n"
     ]
    }
   ],
   "source": [
    "class Triangle:\n",
    "    def __init__(self):\n",
    "        self.a=0\n",
    "        self.b=0\n",
    "        self.c=0\n",
    "        self.s=0\n",
    "class TriangleArea(Triangle):\n",
    "    def area(self,a,b,c):\n",
    "        self.a=a\n",
    "        self.b=b\n",
    "        self.c=c\n",
    "        self.s=(self.a+self.b+self.c)/2\n",
    "        return (self.s*(self.s-self.a)*(self.s-self.b)*(self.s-self.c))**0.5\n",
    "t1=TriangleArea()\n",
    "area=t1.area(6,10,6)\n",
    "print(\"Area of the triangle is : \",area)"
   ]
  },
  {
   "cell_type": "markdown",
   "metadata": {},
   "source": [
    "# 1.2"
   ]
  },
  {
   "cell_type": "code",
   "execution_count": 9,
   "metadata": {},
   "outputs": [
    {
     "name": "stdout",
     "output_type": "stream",
     "text": [
      "enter the length of list : 6\n",
      "enter the string : rahul\n",
      "enter the string : kaushik\n",
      "enter the string : karthik\n",
      "enter the string : anudeep\n",
      "enter the string : zuber\n",
      "enter the string : 5\n",
      "enter the n : 5\n",
      "['kaushik', 'karthik', 'anudeep']\n"
     ]
    }
   ],
   "source": [
    "def filter_long_words(l1,n):\n",
    "    l2=[]\n",
    "    for j in l1:\n",
    "        if(len(j)>n):\n",
    "            l2.append(j)\n",
    "    return l2\n",
    "s=int(input(\"enter the length of list : \"))\n",
    "l1=[]\n",
    "for m in range(s):\n",
    "    l1.append(input(\"enter the string : \"))\n",
    "n=int(input(\"enter the n : \"))\n",
    "l3=filter_long_words(l1,n)\n",
    "print(l3)"
   ]
  },
  {
   "cell_type": "markdown",
   "metadata": {},
   "source": [
    "# 2.1"
   ]
  },
  {
   "cell_type": "code",
   "execution_count": 10,
   "metadata": {},
   "outputs": [
    {
     "name": "stdout",
     "output_type": "stream",
     "text": [
      "enter the length of the list : 5\n",
      "enter the string : rahul\n",
      "enter the string : naraniya\n",
      "enter the string : ajay\n",
      "enter the string : pinku\n",
      "enter the string : kaushik\n",
      "[5, 8, 4, 5, 7]\n"
     ]
    }
   ],
   "source": [
    "def lengths(l1):\n",
    "    l2=[]\n",
    "    for i in l1:\n",
    "        l2.append(len(i))\n",
    "    return l2\n",
    "l1=[]\n",
    "n=int(input(\"enter the length of the list : \"))\n",
    "for i in range(n):\n",
    "    l1.append(input(\"enter the string : \"))\n",
    "length=lengths(l1)\n",
    "print(length)"
   ]
  },
  {
   "cell_type": "markdown",
   "metadata": {},
   "source": [
    "# 2.2"
   ]
  },
  {
   "cell_type": "code",
   "execution_count": 19,
   "metadata": {},
   "outputs": [
    {
     "name": "stdout",
     "output_type": "stream",
     "text": [
      "enter a character : a\n",
      "True\n",
      "enter a character : t\n",
      "False\n"
     ]
    }
   ],
   "source": [
    "def isVowel(c):\n",
    "    c=c.upper()\n",
    "    if(c not in ('A','E','I','O','U')):\n",
    "        return False\n",
    "    else:\n",
    "        return True\n",
    "print(isVowel(input(\"enter a character : \")[0]))\n",
    "print(isVowel(input(\"enter a character : \")[0]))"
   ]
  }
 ],
 "metadata": {
  "kernelspec": {
   "display_name": "Python 3",
   "language": "python",
   "name": "python3"
  },
  "language_info": {
   "codemirror_mode": {
    "name": "ipython",
    "version": 3
   },
   "file_extension": ".py",
   "mimetype": "text/x-python",
   "name": "python",
   "nbconvert_exporter": "python",
   "pygments_lexer": "ipython3",
   "version": "3.7.6"
  }
 },
 "nbformat": 4,
 "nbformat_minor": 4
}
